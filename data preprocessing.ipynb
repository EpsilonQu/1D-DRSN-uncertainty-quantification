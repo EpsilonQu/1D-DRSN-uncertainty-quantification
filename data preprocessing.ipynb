{
 "cells": [
  {
   "cell_type": "code",
   "execution_count": null,
   "id": "c27904f0-d107-40e2-99f3-ba0a918f7132",
   "metadata": {},
   "outputs": [],
   "source": [
    "from libtiff import TIFF\n",
    "img = TIFF.open(r'',mode='r')\n",
    "print(type(img))  \n",
    "image = img.read_image()  \n",
    "print(type(image)) \n",
    "print(type(image[0][0])) \n",
    "print(image)\n",
    "data_df1 = pd.DataFrame(image)"
   ]
  },
  {
   "cell_type": "code",
   "execution_count": null,
   "id": "648ae313-9df4-4e0f-beee-a4c96e4be3a1",
   "metadata": {},
   "outputs": [],
   "source": [
    "data_ary1 = np.array(data_df1).flatten()  \n",
    "data_new_df1 = pd.DataFrame(data_ary1)\n",
    "data_new_df1.columns = ['ndvi'] \n",
    "del data_ary1\n",
    "del data_df1"
   ]
  },
  {
   "cell_type": "code",
   "execution_count": null,
   "id": "4c9de618-0ad8-4ff9-9344-821643db68c3",
   "metadata": {},
   "outputs": [],
   "source": [
    "Repeated*33"
   ]
  },
  {
   "cell_type": "code",
   "execution_count": null,
   "id": "26201801-7ec9-4da0-9fad-591f6da180cc",
   "metadata": {},
   "outputs": [],
   "source": [
    "data_new_df1.loc[data_new_df1['DEM']==-128,'ndvi'] = 523 #nodata"
   ]
  },
  {
   "cell_type": "code",
   "execution_count": null,
   "id": "63a69c31-ab3d-428a-aafa-8e8fed4ff644",
   "metadata": {},
   "outputs": [],
   "source": [
    "df_for_mrmr = pd.concat([y, X], axis=1)\n",
    "\n",
    "selected_features = pymrmr.mRMR(df_for_mrmr, 'MIQ', 16) \n",
    "print(\"selected:\", selected_features)"
   ]
  },
  {
   "cell_type": "code",
   "execution_count": null,
   "id": "dc8aaf25-132f-4d50-ada2-1dd7bf34bd65",
   "metadata": {},
   "outputs": [],
   "source": [
    "X = df[[]]\n",
    "X = X.values[:, :]\n",
    "Y = df.values[:, 0]\n",
    "scaler = StandardScaler()\n",
    "X_scaled = scaler.fit_transform(X)\n",
    "encoder = LabelEncoder()\n",
    "Y_encoded = encoder.fit_transform(Y)\n",
    "Y_onehot = np_utils.to_categorical(Y_encoded)\n",
    "x_train, x_test, y_train, y_test = train_test_split(X_scaled, Y_onehot, test_size=0.3)\n"
   ]
  },
  {
   "cell_type": "code",
   "execution_count": null,
   "id": "f08034d5-6cea-408f-b3b1-8d4caa48b198",
   "metadata": {},
   "outputs": [],
   "source": [
    "kos = SMOTETomek(random_state=523)\n",
    "x_train, y_train = kos.fit_resample(x_train, y_train)\n",
    "x_train = x_train.reshape(x_train.shape[0], 16).astype('float32')\n",
    "x_test = x_test.reshape(x_test.shape[0], 16).astype('float32')"
   ]
  },
  {
   "cell_type": "code",
   "execution_count": null,
   "id": "0d960bb9-7cb7-48c7-9a21-4336da5a8ae1",
   "metadata": {},
   "outputs": [],
   "source": []
  }
 ],
 "metadata": {
  "kernelspec": {
   "display_name": "Python [conda env:base] *",
   "language": "python",
   "name": "conda-base-py"
  },
  "language_info": {
   "codemirror_mode": {
    "name": "ipython",
    "version": 3
   },
   "file_extension": ".py",
   "mimetype": "text/x-python",
   "name": "python",
   "nbconvert_exporter": "python",
   "pygments_lexer": "ipython3",
   "version": "3.12.7"
  }
 },
 "nbformat": 4,
 "nbformat_minor": 5
}
